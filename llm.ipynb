{
 "cells": [
  {
   "cell_type": "code",
   "execution_count": 1,
   "metadata": {},
   "outputs": [
    {
     "name": "stdout",
     "output_type": "stream",
     "text": [
      "**Human Life Expectancy in the United States**\n",
      "\n",
      "As of 2022, the average human life expectancy in the United States is 78.7 years for males and 80.2 years for females.\n",
      "\n",
      "**Human Life Expectancy in Bangladesh**\n",
      "\n",
      "As of 2022, the average life expectancy in Bangladesh is 72.1 years.\n"
     ]
    }
   ],
   "source": [
    "import ollama\n",
    "\n",
    "def chat_with_model(prompt):\n",
    "    response = ollama.chat(model=\"gemma:2b\", messages=[{\"role\": \"user\", \"content\": prompt}])\n",
    "    return response[\"message\"][\"content\"]\n",
    "\n",
    "user_prompt = \"What is human life expectancy in the US and Bangladesh?\"\n",
    "response = chat_with_model(user_prompt)\n",
    "\n",
    "print(response)\n"
   ]
  }
 ],
 "metadata": {
  "kernelspec": {
   "display_name": "venv",
   "language": "python",
   "name": "python3"
  },
  "language_info": {
   "codemirror_mode": {
    "name": "ipython",
    "version": 3
   },
   "file_extension": ".py",
   "mimetype": "text/x-python",
   "name": "python",
   "nbconvert_exporter": "python",
   "pygments_lexer": "ipython3",
   "version": "3.11.9"
  }
 },
 "nbformat": 4,
 "nbformat_minor": 2
}
